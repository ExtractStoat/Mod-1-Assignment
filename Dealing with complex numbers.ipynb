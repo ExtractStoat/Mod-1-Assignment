{
 "cells": [
  {
   "cell_type": "code",
   "execution_count": null,
   "id": "bbb9a14f",
   "metadata": {},
   "outputs": [],
   "source": [
    "import math\n",
    "\n",
    "class Complex(object):\n",
    "    def __init__(self, real, imaginary):\n",
    "        self.real =real\n",
    "        self.imaginary = imaginary\n",
    "    def __add__(self, no):\n",
    "        a = self.real + no.real\n",
    "        b = self.imaginary + no.imaginary\n",
    "        return Complex(a,b)\n",
    "    def __sub__(self, no):\n",
    "        c = self.real - no.real\n",
    "        d = self.imaginary - no.imaginary\n",
    "        return Complex(c,d)\n",
    "    def __mul__(self, no):\n",
    "        e = self.real * no.real - self.imaginary * no.imaginary\n",
    "        f = self.real * no.imaginary + self.imaginary * no.real\n",
    "        return Complex(e,f)\n",
    "    def __truediv__(self, no):\n",
    "        cong = Complex(no.real,-no.imaginary)\n",
    "        g = self * cong\n",
    "        h = no * cong\n",
    "        i = g.real/h.real\n",
    "        j = g.imaginary/h.real \n",
    "        return Complex(i,j)\n",
    "    \n",
    "    def mod(self):\n",
    "        k = math.sqrt(self.real**2+self.imaginary**2)\n",
    "        return Complex(k,0)\n",
    "    def __str__(self):\n",
    "        if self.imaginary == 0:\n",
    "            result = \"%.2f+0.00i\" % (self.real)\n",
    "        elif self.real == 0:\n",
    "            if self.imaginary >= 0:\n",
    "                result = \"0.00+%.2fi\" % (self.imaginary)\n",
    "            else:\n",
    "                result = \"0.00-%.2fi\" % (abs(self.imaginary))\n",
    "        elif self.imaginary > 0:\n",
    "            result = \"%.2f+%.2fi\" % (self.real, self.imaginary)\n",
    "        else:\n",
    "            result = \"%.2f-%.2fi\" % (self.real, abs(self.imaginary))\n",
    "        return result\n",
    "\n",
    "\n",
    "if __name__ == '__main__':\n",
    "    c = map(float, input().split())\n",
    "    d = map(float, input().split())\n",
    "    x = Complex(*c)\n",
    "    y = Complex(*d)\n",
    "    print(*map(str, [x+y, x-y, x*y, x/y, x.mod(), y.mod()]), sep='\\n')"
   ]
  }
 ],
 "metadata": {
  "kernelspec": {
   "display_name": "Python 3 (ipykernel)",
   "language": "python",
   "name": "python3"
  },
  "language_info": {
   "codemirror_mode": {
    "name": "ipython",
    "version": 3
   },
   "file_extension": ".py",
   "mimetype": "text/x-python",
   "name": "python",
   "nbconvert_exporter": "python",
   "pygments_lexer": "ipython3",
   "version": "3.9.12"
  }
 },
 "nbformat": 4,
 "nbformat_minor": 5
}
