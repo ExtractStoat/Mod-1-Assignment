{
 "cells": [
  {
   "cell_type": "code",
   "execution_count": 19,
   "id": "affae29a",
   "metadata": {
    "scrolled": true
   },
   "outputs": [
    {
     "name": "stdout",
     "output_type": "stream",
     "text": [
      "What is your first name\n",
      "Gabriel\n",
      "What is your last name\n",
      "Zambrano\n",
      "Zambrano Gabriel\n"
     ]
    }
   ],
   "source": [
    "#Takes use input for strings and outputs them\n",
    "print ('What is your first name')\n",
    "first = input ()\n",
    "print ('What is your last name')\n",
    "last = input ()\n",
    "print (last +' ' + first)"
   ]
  },
  {
   "cell_type": "code",
   "execution_count": 15,
   "id": "e81e1398",
   "metadata": {},
   "outputs": [
    {
     "name": "stdout",
     "output_type": "stream",
     "text": [
      "4\n",
      "492\n"
     ]
    }
   ],
   "source": [
    "# takes input turns it into an integer and multplies it by 11 and 111 and prints the sum of all 3 numbers\n",
    "n = input()\n",
    "n = int(n)\n",
    "\n",
    "print (n + n * 11 + n*111)"
   ]
  },
  {
   "cell_type": "code",
   "execution_count": 18,
   "id": "d2a8d71c",
   "metadata": {},
   "outputs": [
    {
     "name": "stdout",
     "output_type": "stream",
     "text": [
      "What counrty are you from?\n",
      "Brazil\n",
      "I have heard that Brazil is a beautiful country\n"
     ]
    }
   ],
   "source": [
    "#Takes input form user for a country and tells them its a beautiful country\n",
    "print ('What counrty are you from?')\n",
    "country = input()\n",
    "print ('I have heard that ' + country + ' is a beautiful country')"
   ]
  },
  {
   "cell_type": "code",
   "execution_count": null,
   "id": "444ff088",
   "metadata": {},
   "outputs": [],
   "source": []
  }
 ],
 "metadata": {
  "kernelspec": {
   "display_name": "Python 3 (ipykernel)",
   "language": "python",
   "name": "python3"
  },
  "language_info": {
   "codemirror_mode": {
    "name": "ipython",
    "version": 3
   },
   "file_extension": ".py",
   "mimetype": "text/x-python",
   "name": "python",
   "nbconvert_exporter": "python",
   "pygments_lexer": "ipython3",
   "version": "3.9.12"
  }
 },
 "nbformat": 4,
 "nbformat_minor": 5
}
